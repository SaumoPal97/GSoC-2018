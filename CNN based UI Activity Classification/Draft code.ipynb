{
 "cells": [
  {
   "cell_type": "code",
   "execution_count": 1,
   "metadata": {
    "collapsed": true
   },
   "outputs": [],
   "source": [
    "import re\n",
    "import json\n",
    "import pandas as pd\n",
    "from os import listdir, getcwd\n",
    "from os.path import isfile, join, splitext"
   ]
  },
  {
   "cell_type": "code",
   "execution_count": 32,
   "metadata": {
    "collapsed": true
   },
   "outputs": [],
   "source": [
    "def activity_name_search(haystack):\n",
    "    if u'activity_name' in haystack.keys():\n",
    "        words = haystack[u'activity_name'].split('.')\n",
    "        activity_name = words[-1]\n",
    "        activity_name = activity_name.replace('Activity','')\n",
    "        activity_name = activity_name.replace('View','')\n",
    "        return activity_name"
   ]
  },
  {
   "cell_type": "code",
   "execution_count": 34,
   "metadata": {
    "collapsed": false
   },
   "outputs": [
    {
     "name": "stdout",
     "output_type": "stream",
     "text": [
      "                                 ActivityName FileName\n",
      "0                         RegistrationSuccess    55318\n",
      "1                                    AddCatch    37523\n",
      "2                                     AppMain    46113\n",
      "3                                    Resolver    64223\n",
      "4                                    Forecast    52347\n",
      "5                                        Main     5237\n",
      "6                                        Main    55663\n",
      "7                                     Browser    68370\n",
      "8                              FacebookSignUp      213\n",
      "9                       RegistrationFragments    36769\n",
      "10                             ListingProfile    51316\n",
      "11                                  Dashboard    48549\n",
      "12                                       Main    62504\n",
      "13                                    Chooser    37658\n",
      "14                                       Base    26831\n",
      "15                                   Kicktipp     4738\n",
      "16                                    GlobMap     3873\n",
      "17                                       Main    52454\n",
      "18                                    Capture     4674\n",
      "19                           VerificationCode     2120\n",
      "20                          AssessmentDetails    24757\n",
      "21                                       Main    14284\n",
      "22                                    Gallery    57232\n",
      "23                                      Login    41494\n",
      "24                                     Master    71702\n",
      "25                                       Main    17209\n",
      "26                                   Tutorial    41929\n",
      "27                                LoginSignup     7997\n",
      "28                         CommandBibliotheca    19959\n",
      "29                                       Menu    42300\n",
      "...                                       ...      ...\n",
      "72189                                    Main    50935\n",
      "72190                                   JdTab    61395\n",
      "72191                                 Browser    64389\n",
      "72192                                    Main    60541\n",
      "72193                                   Start    29383\n",
      "72194                              GatingInfo    11561\n",
      "72195                                     Web    55060\n",
      "72196                                  SignIn    58377\n",
      "72197                     UINavigationManager    55159\n",
      "72198                        HoroscopeContent    61123\n",
      "72199                                  Launch    45166\n",
      "72200                     NovedadesController    45897\n",
      "72201                                 Welcome    60516\n",
      "72202                              Dictionary    26575\n",
      "72203                                    Main    65820\n",
      "72204                              AlarmClock    66945\n",
      "72205                    LoggedOutHomeScreen_    48286\n",
      "72206                            FullscreenAd    31376\n",
      "72207                                  OBDmax     5892\n",
      "72208                                Tutorial    55154\n",
      "72209                       CategorySelection    31588\n",
      "72210                                    Main    32642\n",
      "72211                        TheDayBeforeList    25903\n",
      "72212  SwipeFirebaseContactSearchableListItem    54441\n",
      "72213                 GrantCredentialsWithAcl      509\n",
      "72214                                    Main    58073\n",
      "72215                                    Main    17726\n",
      "72216                                   Login    20983\n",
      "72217                                   Login    65772\n",
      "72218                                  TveWeb     7411\n",
      "\n",
      "[72219 rows x 2 columns]\n"
     ]
    }
   ],
   "source": [
    "activity_name_list = list()\n",
    "file_name_list = list()\n",
    "mypath = getcwd()\n",
    "files = [f for f in listdir(join('/home/saumo/Downloads/GSoC 2018','json_dir')) if isfile(join('/home/saumo/Downloads/GSoC 2018','json_dir', f))]\n",
    "for fl in files :\n",
    "    with open(join('/home/saumo/Downloads/GSoC 2018','json_dir',fl),'r') as f:\n",
    "        fo = json.load(f)\n",
    "    activity_name_list.append(activity_name_search(fo))\n",
    "    file_name_list.append(splitext(fl)[0])\n",
    "    f.close()\n",
    "\n",
    "d = {'FileName':file_name_list,'ActivityName':activity_name_list}\n",
    "df = pd.DataFrame(d)\n",
    "print df\n",
    "df.to_csv('complete_activity_list.csv', index=False, encoding = 'utf-8')"
   ]
  },
  {
   "cell_type": "code",
   "execution_count": null,
   "metadata": {
    "collapsed": false
   },
   "outputs": [],
   "source": [
    "import numpy as np\n",
    "import sklearn.cluster\n",
    "import distance\n",
    "\n",
    "words = np.asarray(activity_name_list)\n",
    "lev_similarity = -1*np.array([[distance.levenshtein(w1,w2) for w1 in words] for w2 in words])\n",
    "\n",
    "affprop = sklearn.cluster.AffinityPropagation(affinity=\"precomputed\", damping=0.5)\n",
    "affprop.fit(lev_similarity)\n",
    "for cluster_id in np.unique(affprop.labels_):\n",
    "    exemplar = words[affprop.cluster_centers_indices_[cluster_id]]\n",
    "    cluster = np.unique(words[np.nonzero(affprop.labels_==cluster_id)])\n",
    "    cluster_str = \", \".join(cluster)\n",
    "    print(\" - *%s:* %s\" % (exemplar, cluster_str))"
   ]
  },
  {
   "cell_type": "code",
   "execution_count": 5,
   "metadata": {
    "collapsed": true
   },
   "outputs": [],
   "source": [
    "import pandas as pd\n",
    "import numpy as np"
   ]
  },
  {
   "cell_type": "code",
   "execution_count": 2,
   "metadata": {
    "collapsed": true
   },
   "outputs": [],
   "source": [
    "df = pd.read_csv('complete_activity_list.csv')"
   ]
  },
  {
   "cell_type": "code",
   "execution_count": 3,
   "metadata": {
    "collapsed": false
   },
   "outputs": [
    {
     "name": "stdout",
     "output_type": "stream",
     "text": [
      "                                 ActivityName  FileName\n",
      "0                         RegistrationSuccess     55318\n",
      "1                                    AddCatch     37523\n",
      "2                                     AppMain     46113\n",
      "3                                    Resolver     64223\n",
      "4                                    Forecast     52347\n",
      "5                                        Main      5237\n",
      "6                                        Main     55663\n",
      "7                                     Browser     68370\n",
      "8                              FacebookSignUp       213\n",
      "9                       RegistrationFragments     36769\n",
      "10                             ListingProfile     51316\n",
      "11                                  Dashboard     48549\n",
      "12                                       Main     62504\n",
      "13                                    Chooser     37658\n",
      "14                                       Base     26831\n",
      "15                                   Kicktipp      4738\n",
      "16                                    GlobMap      3873\n",
      "17                                       Main     52454\n",
      "18                                    Capture      4674\n",
      "19                           VerificationCode      2120\n",
      "20                          AssessmentDetails     24757\n",
      "21                                       Main     14284\n",
      "22                                    Gallery     57232\n",
      "23                                      Login     41494\n",
      "24                                     Master     71702\n",
      "25                                       Main     17209\n",
      "26                                   Tutorial     41929\n",
      "27                                LoginSignup      7997\n",
      "28                         CommandBibliotheca     19959\n",
      "29                                       Menu     42300\n",
      "...                                       ...       ...\n",
      "72189                                    Main     50935\n",
      "72190                                   JdTab     61395\n",
      "72191                                 Browser     64389\n",
      "72192                                    Main     60541\n",
      "72193                                   Start     29383\n",
      "72194                              GatingInfo     11561\n",
      "72195                                     Web     55060\n",
      "72196                                  SignIn     58377\n",
      "72197                     UINavigationManager     55159\n",
      "72198                        HoroscopeContent     61123\n",
      "72199                                  Launch     45166\n",
      "72200                     NovedadesController     45897\n",
      "72201                                 Welcome     60516\n",
      "72202                              Dictionary     26575\n",
      "72203                                    Main     65820\n",
      "72204                              AlarmClock     66945\n",
      "72205                    LoggedOutHomeScreen_     48286\n",
      "72206                            FullscreenAd     31376\n",
      "72207                                  OBDmax      5892\n",
      "72208                                Tutorial     55154\n",
      "72209                       CategorySelection     31588\n",
      "72210                                    Main     32642\n",
      "72211                        TheDayBeforeList     25903\n",
      "72212  SwipeFirebaseContactSearchableListItem     54441\n",
      "72213                 GrantCredentialsWithAcl       509\n",
      "72214                                    Main     58073\n",
      "72215                                    Main     17726\n",
      "72216                                   Login     20983\n",
      "72217                                   Login     65772\n",
      "72218                                  TveWeb      7411\n",
      "\n",
      "[72219 rows x 2 columns]\n"
     ]
    }
   ],
   "source": [
    "print df"
   ]
  },
  {
   "cell_type": "code",
   "execution_count": 6,
   "metadata": {
    "collapsed": false
   },
   "outputs": [
    {
     "data": {
      "text/plain": [
       "array(['RegistrationSuccess', 'AddCatch', 'AppMain', ..., 'Login',\n",
       "       'Login', 'TveWeb'], dtype=object)"
      ]
     },
     "execution_count": 6,
     "metadata": {},
     "output_type": "execute_result"
    }
   ],
   "source": [
    "words = np.asarray(df['ActivityName'])\n",
    "words"
   ]
  }
 ],
 "metadata": {
  "kernelspec": {
   "display_name": "Python 2",
   "language": "python",
   "name": "python2"
  },
  "language_info": {
   "codemirror_mode": {
    "name": "ipython",
    "version": 2
   },
   "file_extension": ".py",
   "mimetype": "text/x-python",
   "name": "python",
   "nbconvert_exporter": "python",
   "pygments_lexer": "ipython2",
   "version": "2.7.12"
  }
 },
 "nbformat": 4,
 "nbformat_minor": 2
}
