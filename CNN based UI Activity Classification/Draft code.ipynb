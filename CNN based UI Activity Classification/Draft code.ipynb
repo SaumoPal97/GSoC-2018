{
 "cells": [
  {
   "cell_type": "code",
   "execution_count": 1,
   "metadata": {
    "collapsed": true
   },
   "outputs": [],
   "source": [
    "import re\n",
    "import json\n",
    "import pandas as pd\n",
    "from os import listdir, getcwd\n",
    "from os.path import isfile, join, splitext"
   ]
  },
  {
   "cell_type": "code",
   "execution_count": 32,
   "metadata": {
    "collapsed": true
   },
   "outputs": [],
   "source": [
    "def activity_name_search(haystack):\n",
    "    if u'activity_name' in haystack.keys():\n",
    "        words = haystack[u'activity_name'].split('.')\n",
    "        activity_name = words[-1]\n",
    "        activity_name = activity_name.replace('Activity','')\n",
    "        activity_name = activity_name.replace('View','')\n",
    "        return activity_name"
   ]
  },
  {
   "cell_type": "code",
   "execution_count": 34,
   "metadata": {
    "collapsed": false
   },
   "outputs": [
    {
     "name": "stdout",
     "output_type": "stream",
     "text": [
      "                                 ActivityName FileName\n",
      "0                         RegistrationSuccess    55318\n",
      "1                                    AddCatch    37523\n",
      "2                                     AppMain    46113\n",
      "3                                    Resolver    64223\n",
      "4                                    Forecast    52347\n",
      "5                                        Main     5237\n",
      "6                                        Main    55663\n",
      "7                                     Browser    68370\n",
      "8                              FacebookSignUp      213\n",
      "9                       RegistrationFragments    36769\n",
      "10                             ListingProfile    51316\n",
      "11                                  Dashboard    48549\n",
      "12                                       Main    62504\n",
      "13                                    Chooser    37658\n",
      "14                                       Base    26831\n",
      "15                                   Kicktipp     4738\n",
      "16                                    GlobMap     3873\n",
      "17                                       Main    52454\n",
      "18                                    Capture     4674\n",
      "19                           VerificationCode     2120\n",
      "20                          AssessmentDetails    24757\n",
      "21                                       Main    14284\n",
      "22                                    Gallery    57232\n",
      "23                                      Login    41494\n",
      "24                                     Master    71702\n",
      "25                                       Main    17209\n",
      "26                                   Tutorial    41929\n",
      "27                                LoginSignup     7997\n",
      "28                         CommandBibliotheca    19959\n",
      "29                                       Menu    42300\n",
      "...                                       ...      ...\n",
      "72189                                    Main    50935\n",
      "72190                                   JdTab    61395\n",
      "72191                                 Browser    64389\n",
      "72192                                    Main    60541\n",
      "72193                                   Start    29383\n",
      "72194                              GatingInfo    11561\n",
      "72195                                     Web    55060\n",
      "72196                                  SignIn    58377\n",
      "72197                     UINavigationManager    55159\n",
      "72198                        HoroscopeContent    61123\n",
      "72199                                  Launch    45166\n",
      "72200                     NovedadesController    45897\n",
      "72201                                 Welcome    60516\n",
      "72202                              Dictionary    26575\n",
      "72203                                    Main    65820\n",
      "72204                              AlarmClock    66945\n",
      "72205                    LoggedOutHomeScreen_    48286\n",
      "72206                            FullscreenAd    31376\n",
      "72207                                  OBDmax     5892\n",
      "72208                                Tutorial    55154\n",
      "72209                       CategorySelection    31588\n",
      "72210                                    Main    32642\n",
      "72211                        TheDayBeforeList    25903\n",
      "72212  SwipeFirebaseContactSearchableListItem    54441\n",
      "72213                 GrantCredentialsWithAcl      509\n",
      "72214                                    Main    58073\n",
      "72215                                    Main    17726\n",
      "72216                                   Login    20983\n",
      "72217                                   Login    65772\n",
      "72218                                  TveWeb     7411\n",
      "\n",
      "[72219 rows x 2 columns]\n"
     ]
    }
   ],
   "source": [
    "activity_name_list = list()\n",
    "file_name_list = list()\n",
    "mypath = getcwd()\n",
    "files = [f for f in listdir(join('/home/saumo/Downloads/GSoC 2018','json_dir')) if isfile(join('/home/saumo/Downloads/GSoC 2018','json_dir', f))]\n",
    "for fl in files :\n",
    "    with open(join('/home/saumo/Downloads/GSoC 2018','json_dir',fl),'r') as f:\n",
    "        fo = json.load(f)\n",
    "    activity_name_list.append(activity_name_search(fo))\n",
    "    file_name_list.append(splitext(fl)[0])\n",
    "    f.close()\n",
    "\n",
    "d = {'FileName':file_name_list,'ActivityName':activity_name_list}\n",
    "df = pd.DataFrame(d)\n",
    "print df\n",
    "df.to_csv('complete_activity_list.csv', index=False, encoding = 'utf-8')"
   ]
  },
  {
   "cell_type": "code",
   "execution_count": null,
   "metadata": {
    "collapsed": false
   },
   "outputs": [],
   "source": [
    "import sklearn.cluster\n",
    "\n",
    "affprop = sklearn.cluster.AffinityPropagation(affinity=\"precomputed\", damping=0.5)\n",
    "affprop.fit(lev_similarity)\n",
    "for cluster_id in np.unique(affprop.labels_):\n",
    "    exemplar = words[affprop.cluster_centers_indices_[cluster_id]]\n",
    "    cluster = np.unique(words[np.nonzero(affprop.labels_==cluster_id)])\n",
    "    cluster_str = \", \".join(cluster)\n",
    "    print(\" - *%s:* %s\" % (exemplar, cluster_str))"
   ]
  },
  {
   "cell_type": "code",
   "execution_count": 1,
   "metadata": {
    "collapsed": false
   },
   "outputs": [
    {
     "name": "stdout",
     "output_type": "stream",
     "text": [
      "[[  0  -9  -9 ... -25 -12 -14]\n",
      " [ -9   0  -7 ... -27  -4 -17]\n",
      " [ -9  -7   0 ... -26  -9 -16]\n",
      " ...\n",
      " [-25 -27 -26 ...   0 -29 -23]\n",
      " [-12  -4  -9 ... -29   0 -16]\n",
      " [-14 -17 -16 ... -23 -16   0]]\n",
      " - *Preferences:* CalcTapePreferences, Preferences, PreferencesMain\n",
      " - *MainTab:* AnalystTab, EditTask, MainFastF, MainMenu, MainNav, MainTab, SAManual, TabletTab\n",
      " - *ForgotPassword:* ForgotPassword\n",
      " - *Home:* Home, Howto\n",
      " - *BackCountry:* BackCountry\n",
      " - *Welcome:* Oblicuos, Welcome\n",
      " - *FBReader:* BibleReader, FBReader, NewsReaderHome, Reader\n",
      " - *SlidingMenu:* IFunnyMenu, SlidingMenu\n",
      " - *ScrollCalendarMain:* ScrollCalendarMain\n",
      " - *Browser:* Browser\n",
      " - *Browser:* Browser, BrowserApp, MediaBrowser\n",
      " - *ProxyAuthDialog:* ProxyAuthDialog\n",
      " - *Master:* HafasApp, Markers, Master\n",
      " - *GoodsByCategory:* GoodsByCategory, RemediesCategory, VocabularyCategory\n",
      " - *Core:* AreaCode, Chord, Core, Course, InfoColorKey, More, t_url\n",
      " - *FindMusersOfContacts:* FindMusersOfContacts\n",
      " - *TopLevel:* TopLevel\n",
      " - *History:* Discovery, History, LoginHistoryUI, Mirror1280, NewsHistory, PinLock, PointsForm\n",
      " - *Onboarding:* CBOnboarding, MainOnboardingTou, OnBoarding, OnBoardingFirst, Onboard, Onboarding, OnboardingGroups, OnboardingStep1\n",
      " - *AdvSearchContainer:* AdvSearchContainer\n",
      " - *HomeScreen:* HomeScreen, InnerScreen, ScreenStream, StarterScreen\n",
      " - *Intro:* AppMainIntro, Index, Info, Init, Interview, Intro, InviteFriend, Item, PairIntro, QCIntro\n",
      " - *CollegeHockeyNews:* CollegeHockeyNews\n",
      " - *SearchCategories:* AllCategories, SearchCategories\n",
      " - *Home:* Home\n",
      " - *Home:* Boxed, Home\n",
      " - *PostInitReplication:* PostInitReplication\n",
      " - *SpinningEarth:* MissingData, SpinningEarth, UpcomingEvents\n",
      " - *BirthDayHelper:* BirthDayHelper\n",
      " - *FieldDefaultsActivty:* FieldDefaultsActivty\n",
      " - *train_schedule:* train_schedule\n",
      " - *Home:* Home, Hotels\n",
      " - *Browser:* Browser\n",
      " - *Home:* Games, Home\n",
      " - *QuotesShareLoveStickerFragment:* QuotesShareLoveStickerFragment\n",
      " - *Home:* Home\n",
      " - *Main:* ActMain, CMain, EqMainAdd, FMXNative, Glavna, IAEMain, Main, Main2, Main21, MainUI, Main_, Mainer, MenuSzablon, Mini, OlxMain, Pack, Pasion, PipMain, Quiz, Radio, VingleMain, _Main, _main\n",
      " - *InterstitialAd:* Interstitial, InterstitialAd\n",
      " - *PinnattaForMessenger:* PinnattaForMessenger\n",
      " - *Exercises:* Exercise_, Exercises\n",
      " - *ProxyAuthDialog:* ProxyAuthDialog, vPresetDialog\n",
      " - *Base:* Aarki, Balance, Base, Pack, PageXP, Pause, PlayCase\n",
      " - *WeatherWhiskersMain:* WeatherWhiskersMain\n",
      " - *Touts:* Coupons, Documents, Flirts, Groups, RouteStops, Sound, Tests, Text, Tinnitus, TourLite, Touts, Trips, smulk\n",
      " - *ScannerRadioTab:* ScannerRadioTab\n",
      " - *Chooser:* Chooser\n",
      " - *ProxyAuthDialog:* ProxyAuthDialog\n",
      " - *PaidSewichiPanel:* PaidSewichiPanel\n",
      " - *Notifications:* Notification, NotificationOptions, Notifications\n",
      " - *Profile:* Article, Profile, ProfileCreate, ProfileEditor\n",
      " - *Resolver:* AmberAlert, BestSeller, MeshClient, Resolver\n",
      " - *ProxyAuthDialog:* ProxyAuthDialog\n",
      " - *Login:* BrokerLogin, GenericLogin, LeoDict, Lilium, LogIn, LogReg, Login, LoginFacade_, Login_, PreLogin, Songify, UserLogin, _Login\n",
      " - *Navigation:* ForumNavigation, Navigation, Navigator, TalkingSpoony\n",
      " - *Category:* Categories, Category\n",
      " - *Master:* Master, Scanner\n",
      " - *Master:* Master, TicketMaster\n",
      " - *ProxyAuthDialog:* ProxyAuthDialog\n",
      " - *BrowserPreferencesPage:* BrowserPreferencesPage\n",
      " - *Camera:* Camera, Chakra, ChargerMap, MemberMain, Parent\n",
      " - *Home:* Home\n",
      " - *Settings:* Settings, Starting_, SubjectInput\n",
      " - *GrantCredentialsWithAcl:* GrantCredentialsWithAcl\n",
      " - *Tutorial:* AppTutorial, EditHoliday, MiniTutorial, TruthOrDare, Tutorial, TutorialPages, TutorialSwipe\n",
      " - *ProductList:* EasyBlacklist, ProductList, ProductSwipe, Products, ProgramsList\n",
      " - *DealSearchResult:* DealSearchResult, HotelSearchResults, PodcastSearchResult, SearchResult\n",
      " - *ApplicationSettings:* ApplicationSettings, FloatingIconSettings\n",
      " - *Setting:* Series, Setting\n",
      " - *Master:* Master\n",
      " - *ExpensePaymentMethodList:* ExpensePaymentMethodList\n",
      " - *Chooser:* Chooser\n",
      " - *Capture:* Capture, CoachMarks, MediaCapture\n",
      " - *SeatSelectionScreen:* SeatSelectionScreen\n",
      " - *HCDFromCatalogSearchList:* HCDFromCatalogSearchList\n",
      " - *OnboardCredentials:* OnboardCredentials\n",
      " - *Wizard:* Final_, Primary, SetupWizard, Wizard\n",
      " - *Home:* Game, Home\n",
      " - *Settings:* Settings\n",
      " - *PathfinderOpenReference:* PathfinderOpenReference\n",
      " - *Meteo:* Atestamento, Feed, Meteo, Meter, Setup, UpdateLot\n",
      " - *ResultadosFutbolMain:* ResultadosFutbolMain\n",
      " - *Browser:* Browser\n",
      " - *Browser:* Browser, DroidWeb\n",
      " - *CircleOfFifths:* CircleOfFifths\n",
      " - *Master:* Master\n",
      " - *PasswordChange:* FaceMoodScanner, PasswordChange\n",
      " - *SplashScreen:* SplashScreen\n",
      " - *AdditionalInfo:* AdditionalInfo\n",
      " - *Setting:* SelectDevice, Setting\n",
      " - *SpotHome:* PhoneHome, SpotHome, TopNavHome, TripItHost, VSPasscode, VisitorHome\n",
      " - *AuthorizationClient:* AuthorizationClient\n",
      " - *Home:* Episodes, Home\n",
      " - *Home:* Home\n",
      " - *Master:* Mainer, Master\n",
      " - *Registration:* Meditation, RegisterAccount, RegisterDevice, Registration, RegistrationUI, Reservation\n",
      " - *Browser:* Browser\n",
      " - *MvelopesSlideMenu_:* MvelopesSlideMenu_\n",
      " - *LightWeightProxyAuth:* LightWeightProxyAuth\n",
      " - *UpgradeCalendar:* UpgradeCalendar, UpgradeStarterKit\n",
      " - *AppWall:* AppBrain, AppCoach, AppWall, HandWallet, InAppBilling\n",
      " - *UplynkPlayer:* MyMediaPlayer, UnityPlayer, UplynkPlayer\n",
      " - *ProductDetail:* ProductActions, ProductDetail, ProductDetails, ProgramDetail\n",
      " - *Home:* Home\n",
      " - *TermsandConditions:* TermsandConditions\n",
      " - *DefaultAirport:* DefaultAirport\n",
      " - *Chooser:* Chooser\n",
      " - *Time:* BabyTime, Filer, Guide, PTime, Time, Title, Triframe, Type\n",
      " - *Home:* Home\n",
      " - *GolfSignupProfileAct:* GolfSignupProfileAct\n",
      " - *Details:* DCFaqs, Detail, Details, DetailsFree, HotelDetails, QuizDetails, Retail\n",
      " - *DevicesList:* DevicesList, MessageList, RecipeList, ServiceHistoryList, TeachersList\n",
      " - *KSAFirstUserExperience:* KSAFirstUserExperience\n",
      " - *AudioList:* ArticleList, Audio47524, Audio50729, AudioList, ItemsList, QuizList, QuoteList\n",
      " - *Welcome:* Welcome\n",
      " - *PlayHistories_St2:* PlayHistories_St2\n",
      " - *Settings:* Settings\n",
      " - *NewMainInterface:* NewMainInterface\n",
      " - *Introduction:* Introduction\n",
      " - *ItemDetailsScreen:* ItemDetailsScreen\n",
      " - *NewsOnePageDetail:* NewsOnePageDetail\n",
      " - *RegStepOneLandingPage:* RegStepOneLandingPage\n",
      " - *Landing:* Landing, LoginLanding, Tracking\n",
      " - *CreateAccount:* CreateAccount, CreateEvent, CreateMealPlan, CreateScoutmark\n",
      " - *Home:* Home, HomeYSII\n",
      " - *FragmentHolder:* FilterHolder, FragmentHolder, FragmentHost, FragmentManager, FragmentShow, FragmentTV, FragmentWrapper, MainFragmentHolder\n",
      " - *ChangeSettings:* CacheSettings, ChangeSettings, LanguageSettings, SnoozeSettings\n",
      " - *SlideStack:* AlarmClock, SkillTrack, SlideStack, Slideshow\n",
      " - *ManageConnection:* ChooseCollection, CreateConversation, ManageConnection\n",
      " - *Dictionary:* Dictionary, DictionaryWords, Questionnaire\n",
      " - *TrackBrowser:* PlaylistBrowser, TrackBrowser\n",
      " - *MainPage:* AllImages, GuidePages, HangmanGame, Language, MainDingtone, MainLogin, MainMenu, MainPage, Message, MoonPhase, OptionsPage, mainindex\n",
      " - *NewTripDestinations:* NewTripDestinations\n",
      " - *RBCLChapter:* BookChapters, RBCLChapter, RadioZapper\n",
      " - *Authentication:* AudienceNetwork, Authentication, Authenticator, Authorization_, PaymentOptions\n",
      " - *SelectFavouritePlayer:* SelectFavouritePlayer\n",
      " - *Second:* Second, SingleSound\n",
      " - *BaseDrawer:* BaseDrawer, GSGameWrapper, HomeDrawerPhone, ImageRemake, MainDrawer, NewDrawer\n",
      " - *ProxyAuthDialog:* ProxyAuthDialog\n",
      " - *ChooseLanguageAndExam:* ChooseLanguageAndExam\n",
      " - *AndroidLauncher:* AndroidLauncher\n",
      " - *HHMilestonesSummary:* HHMilestonesSummary\n",
      " - *Master:* Master\n",
      " - *MCWelcomeNewUser:* MCWelcomeNewUser\n",
      " - *activity_premium_yearly:* activity_premium_yearly\n",
      " - *Version:* DialerIcon, Immersive, Termin, VerInfo, VerseEdit, Version, VieraRemote\n",
      " - *CBImpression:* CBImpression, DailyExpressions\n",
      " - *Post:* Host, Lot, Post, first\n",
      " - *NewsDetail:* FoodDetail, HijabDetail, NewDetail, NewsDetail, NewsMain, RegionDetail, SpeciesDetails, WeatherDetail\n",
      " - *Home:* ComicHome, Home, HomeMenu\n",
      " - *Home:* Home, UserHome\n",
      " - *GoogleRssNews:* GoogleRssNews\n",
      " - *Browser:* Browser\n",
      " - *Home:* Home\n",
      " - *BreakiPhone4S:* BreakiPhone4S\n",
      " - *Community:* Community, CommunityV2\n",
      " - *Master:* Master\n",
      " - *State:* Create, Donate, GPSStatus, Shape, Start, Start1, StartGame_, Start_, State, Status, TeamStats\n",
      " - *Welcome:* KSAWelcome, WarmWelcome, Welcome\n",
      " - *Home:* Home\n",
      " - *Settings:* Settings\n",
      " - *Weather:* Featured, HealthTest, HelpOthers, Weather, WebFlow, WebviewAd\n",
      " - *Chooser:* Chooser\n",
      " - *TermsOfUse:* TermsOfUse\n",
      " - *Master:* Master\n",
      " - *Browser:* Browser, ShowTeam\n",
      " - *Chooser:* Chooser\n",
      " - *User:* Use, User\n",
      " - *Register:* JobFilters, LoginRegister, PageListSearch, Register, RegisterNumber\n",
      " - *LanPassTierBenefits_:* LanPassTierBenefits_\n",
      " - *Browser:* Browser\n",
      " - *Master:* MapFilter, Master\n",
      " - *AppList:* AppInvite, AppList, Artists, BookFlight, CouponsList, NewsList, TaskList\n",
      " - *MainNavigation:* CategoryNavigation, ChannelNavigator, MainNavigation, ZazzleSideNavigation\n",
      " - *BlackAndWhiteBedroomGal4:* BlackAndWhiteBedroomGal4\n",
      " - *Home:* Home\n",
      " - *MiningStocksAct:* MiningStocksAct\n",
      " - *SocialRegisterDialog:* SocialRegisterDialog\n",
      " - *AccountConfigure:* AccountConfigure, AccountSignup, NewStudentConfigure\n",
      " - *Home:* Home, HomeRd\n",
      " - *ProxyAuthDialog:* ProxyAuthDialog\n",
      " - *SimpleApp:* DisplayRecipe, MobileNavApp, SimpleApp, SimpleLogin\n",
      " - *WelcomeEnrollmentWizard:* WelcomeEnrollmentWizard\n",
      " - *Settings:* Settings\n",
      " - *Master:* Master\n",
      " - *EffectiveWeightLossGuide:* EffectiveWeightLossGuide\n",
      " - *Home:* Home\n",
      " - *WHTMain:* ActMain, Bjs_Main, GOMusicMain, SubMain, WHTMain\n",
      " - *Home:* AHtml, Home\n",
      " - *Home:* Home\n",
      " - *TelemundoRoot:* TelemundoRoot\n",
      " - *Container:* ComicMaker, Container, Coordinates, CountryPicker\n",
      " - *Orders:* AddPlayers, AroundMePOIs, Dromoris, Hybrider, Offers, Orders, Prefs, Screen6\n",
      " - *WordGuessGame:* WordGuessGame\n",
      " - *BackupServiceRegister:* BackupServiceRegister\n",
      " - *Dashboard_000:* DashboardNewUi, Dashboard_000\n",
      " - *Settings$AppWriteSettings:* Settings$AppWriteSettings\n",
      " - *HomePage:* CropImage, FVRHomePage, ForceUpdate, HomeFrame, HomePage, LABsOfferPage\n",
      " - *Gallery:* Gallery, Wallpapers_\n",
      " - *Home:* Home\n",
      " - *ArticleDetail:* ActivitiesMain, ArticleDetail, ArticleDetails, ArticleReader, MagazineDetail, RoutineDetail\n",
      " - *VideoPlay:* LessonPlay, VideoGallery, VideoPlay, VideoPlayerNew\n",
      " - *Browser:* AlbumBrowser, Browser\n",
      " - *Chooser:* Chooser\n",
      " - *Master:* Master, Player\n",
      " - *Settings:* Settings\n",
      " - *Home:* Home\n",
      " - *Home:* Home\n",
      " - *Search:* AsyncSearch, CarSearch, Earth, Redirect, Schedule, Search, SearchHolder\n",
      " - *MonitorYourWeight:* MonitorYourWeight\n",
      " - *Splash:* Splash, SplashLogin, TerminalSplash\n",
      " - *ShowCoyoteBDCEXP:* ShowCoyoteBDCEXP\n",
      " - *AlarmSettings:* AlarmSetting, AlarmSettings, LocatorSettings\n",
      " - *Favorites:* FavoriteTeamList, Favorites, Favourites, FranklyVideo\n",
      " - *BubblesBrowsing:* BubblesBrowsing\n",
      " - *Home:* Home\n",
      " - *NavigationDrawer:* NavigationDrawer, NavigationDrawerMain, NavigationPage, NavigationSystem, UINavigationManager\n",
      " - *Settings:* Series, Settings\n",
      " - *IllusionsProBook:* IllusionsProBook\n",
      " - *RegionPicker:* GeoTracker, LocationPicker, NetworkPicker, PhotoPicker, RecipeTabPager, RegionPicker, RingtonePicker\n",
      " - *MainScreen:* InitialScreen, LandingScreen, MainScreen, MainSmartphone_, MktScreens, ThornScreen\n",
      " - *PublicAccountCard:* PublicAccountCard\n",
      " - *Master:* Master\n",
      " - *Home:* Help, Home, Hymn, Volume\n",
      " - *SleepTimerSettings:* SleepTimeSetup, SleepTimerSettings\n",
      " - *BuySellBitcoin:* BuySellBitcoin\n",
      " - *Chooser:* Chooser\n",
      " - *Home:* Home\n",
      " - *SuggestBoardList:* SuggestBoardList\n",
      " - *Equalizer:* Equalizer\n",
      " - *CurrencyConverter:* CurrencyConverter\n",
      " - *ToolsTrainTrack:* ToolsTrainTrack\n",
      " - *PhotoInfoMasterFragment:* PhotoInfoMasterFragment\n",
      " - *LandingScreenPhone:* LandingScreenPhone\n",
      " - *LoggedOutLanding:* LoggedOutLanding\n",
      " - *LoginSelection:* CategorySelection, ChannelSelection, ClockSelector, ContactSelection, LanguageSelection, LoginOptions, LoginSelection, VehicleSelected\n",
      " - *Lovely:* Live4D, LoseIt, Lovely\n",
      " - *FuelDrivingCostSave:* FuelDrivingCostSave\n",
      " - *FirstRun:* FirstRun, Hippeastrum2\n",
      " - *Master:* Master\n",
      " - *Chooser:* ChooseWhip, Chooser\n",
      " - *SignUp:* ActSignIn, DontalkSignUp, RingPDP, SignIn, SignUp, Signin, Signup\n",
      " - *Overlay:* Overlay, Overview\n",
      " - *OnboardCredentials:* OnboardCredentials\n",
      " - *Browser:* Browser\n",
      " - *Settings$DevelopmentSettings:* Settings$DevelopmentSettings\n",
      " - *SolutionTableSettings:* SolutionTableSettings\n",
      " - *Home:* Home\n",
      " - *Store:* FindStore, GetToken, Share, Store, StoreMenu, Story, Sworkit\n",
      " - *Demo:* DICo, Demo, Hello, ItemShop_, Menu, ThemeDemo\n",
      " - *Chooser:* Chooser\n",
      " - *FullScreen:* BatmobiFullScreenAd, FirstScreen, FullScreen, Fullscreen, FullscreenImage, GalleryFullScreen, PublicArea\n",
      " - *Dashboard:* AddDashboardType, DashBoard, Dashboard, Leaderboard\n",
      " - *Map:* App, GLMap, InrixMap, MAIN, MM, Map, Maps, Marca, UUB, a\n",
      " - *ProxyAuthDialog:* ProxyAuthDialog\n",
      " - *About:* About, AboutSystem, Account, LMAuth, Mobiliti\n",
      " - *CityList:* CardList, ChatList, CityList, DiaryList, EntryGroupList, NailsList, WishList\n",
      " - *CreateOrChooseChat:* CreateOrChooseChat\n",
      " - *MainforChattingDUBBED:* MainforChattingDUBBED\n",
      " - *Master:* Master, PlusNumber\n",
      " - *TermsOfService:* TermsOfService\n",
      " - *MainController:* AboutController, MainController, MainTabContainer\n",
      " - *Browser:* Browser, CarPower\n",
      " - *StreamingFlightResultDetails:* StreamingFlightResultDetails\n",
      " - *Master:* Master\n",
      " - *Master:* Master\n",
      " - *EventDetail:* CasinoDetail, EssayDetail, EventDetail, EventsCitypage, FlightDetails, PaymentDetails\n",
      " - *SlackerApp:* SlackerApp\n",
      " - *AppInfoArticleList:* AppInfoArticleList\n",
      " - *Tab:* Faq, Read, TLTab, Tab, TabMy, TabsApp, Tags, Team, Web\n",
      " - *SettingSetBackGround:* SettingSetBackGround\n",
      " - *ContentGetBusinessIdeas:* ContentGetBusinessIdeas\n",
      " - *Master:* Master\n",
      " - *WeatherForecast:* WeatherForecast\n",
      " - *LocationCityFragment:* LocationCityFragment\n",
      " - *Setting:* Setting\n",
      " - *Settings:* Question10, Settings, SettingsV11\n",
      " - *Setting:* Setting\n",
      " - *Connect:* CarConnect, ColAndCom, Connect, ConnectRatePage, Content, Contingency, ShowComponent\n",
      " - *CALesson:* CALesson, NormalLesson\n",
      " - *Settings:* SettingPoint, Settings\n",
      " - *Setting:* Setting\n",
      " - *Submissions:* Permissions, Submissions\n",
      " - *EpisodeSearchResultDetail:* EpisodeSearchResultDetail\n",
      " - *Description:* Description, OfferDescription\n",
      " - *CollectionGallery:* CollectionGallery\n",
      " - *Home:* Home\n",
      " - *InstalledAppDetails:* InstalledAppDetails\n",
      " - *Home:* Glympse, Home\n",
      " - *Phrasebook:* Facebook, Phrasebook\n",
      " - *PreSignupAssessment:* PreSignupAssessment\n",
      " - *Home:* Home\n",
      " - *ProxyAuthDialog:* ProxyAuthDialog\n",
      " - *ProxyAuthDialog:* ProxyAuthDialog\n",
      " - *MainFragment:* MainContentFragment, MainFEjercicios, MainFragment, SCPageFragment\n",
      " - *LookupWordScreen:* LookupWordScreen\n",
      " - *Master:* Master\n",
      " - *Home:* Home\n",
      " - *UserSetting:* GeneralSettings, IRCTCSeatMap, UserSetting\n",
      " - *NewUserSignUpIntroScreen:* NewUserSignUpIntroScreen\n",
      " - *MessagingPreference:* MessagingPreference\n",
      " - *Results:* BadResult, LoveQuotes, ResultPage, Results, ResultsAdd, Vegfulek\n",
      " - *Home:* Home\n",
      " - *FlightTripOverview:* FlightTripOverview\n",
      " - *Chooser:* Chooser\n",
      " - *SecurityAndPrivacy:* SecurityAndPrivacy\n",
      " - *News:* ExpNews, Helps, NewCarHub, NewUser, News, NewsTabbed, Now2, Nurse, Shows, Terms\n",
      " - *Location:* Location, LocationSelect, LocationSharing, Locator\n",
      " - *Home:* Home, MoPub\n",
      " - *UserProfile:* AddEditProfile, AmerenMobile, UserProfile\n",
      " - *OffenderRecentAndA2ZActuivity:* OffenderRecentAndA2ZActuivity\n",
      " - *MainTopRightDialog:* MainTopRightDialog\n",
      " - *WaterMarkTextEditor:* WaterMarkTextEditor\n",
      " - *ProxyAuthDialog:* ProxyAuthDialog\n",
      " - *Home:* Home\n",
      " - *Master:* Master\n",
      " - *EditorialVideo:* ESEditorialLanding, EditorialVideo\n",
      " - *Settings:* Settings\n",
      " - *Home:* Home\n",
      " - *Photo:* Chat, Chatroom, CropPhoto, Loto, NewPhoto, Photo, Promo\n",
      " - *Ad:* 4, Ad, Andy, Edit, FAQ, Find, H, HH, IM, My, NC, OTP, P, SRP, Sl, Ti, WH, WW, a, er, h, m, ܬ\n",
      " - *Master:* Master, MsgThread\n",
      " - *GraphingCalculatorProductTour_:* GraphingCalculatorProductTour_\n",
      " - *Home:* Home\n"
     ]
    }
   ],
   "source": [
    "import pandas as pd\n",
    "import numpy as np\n",
    "df = pd.read_csv('complete_activity_list.csv')\n",
    "\n",
    "new_complete_list = list()\n",
    "for d in df['ActivityName']:\n",
    "    if type(d) is str:\n",
    "        new_complete_list.append(d)\n",
    "        \n",
    "from random import shuffle\n",
    "shuffle(new_complete_list)\n",
    "\n",
    "import distance\n",
    "words = np.asarray(new_complete_list[:int(0.02*len(new_complete_list))])\n",
    "#unvectorised code\n",
    "#lev_similarity = -1*np.array([[distance.levenshtein(w1,w2) for w1 in words] for w2 in words])\n",
    "\n",
    "#vectorised code\n",
    "def lev_similarity_func(w1,w2):\n",
    "    return distance.levenshtein(w1,w2)\n",
    "\n",
    "vlev_similarity = np.vectorize(lev_similarity_func)\n",
    "\n",
    "lev_similarity = -1*vlev_similarity(words,np.array([words]).T)\n",
    "print lev_similarity\n",
    "\n",
    "import sklearn.cluster\n",
    "\n",
    "affprop = sklearn.cluster.AffinityPropagation(affinity=\"precomputed\", damping=0.5)\n",
    "affprop.fit(lev_similarity)\n",
    "for cluster_id in np.unique(affprop.labels_):\n",
    "    exemplar = words[affprop.cluster_centers_indices_[cluster_id]]\n",
    "    cluster = np.unique(words[np.nonzero(affprop.labels_==cluster_id)])\n",
    "    cluster_str = \", \".join(cluster)\n",
    "    print(\" - *%s:* %s\" % (exemplar, cluster_str))"
   ]
  },
  {
   "cell_type": "code",
   "execution_count": 13,
   "metadata": {
    "collapsed": false
   },
   "outputs": [
    {
     "name": "stdout",
     "output_type": "stream",
     "text": [
      "2521\n",
      "1259\n",
      "1588\n",
      "41\n"
     ]
    }
   ],
   "source": [
    "import pandas as pd\n",
    "from itertools import izip\n",
    "\n",
    "df = pd.read_csv('complete_activity_list.csv')\n",
    "login = list()\n",
    "onboarding = list()\n",
    "settings = list()\n",
    "termsofuse = list()\n",
    "ad = list()\n",
    "loginlist  = ['login','register','signup','signin']\n",
    "onboardinglist = ['onboard','wizard','tutorial']\n",
    "settingslist = ['settings']\n",
    "adlist = ['adv']\n",
    "\n",
    "df = df.dropna()\n",
    "\n",
    "for a,f in izip(df.ActivityName, df.FileName):\n",
    "    if any(s in a.lower() for s in loginlist):\n",
    "        login.append(f)\n",
    "    elif any(s in a.lower() for s in onboardinglist):\n",
    "        onboarding.append(f)\n",
    "    elif any(s in a.lower() for s in settingslist):\n",
    "        settings.append(f)\n",
    "    elif any(s in a.lower() for s in adlist):\n",
    "        ad.append(f)\n",
    "        \n",
    "print len(login)\n",
    "print len(onboarding)\n",
    "print len(settings)\n",
    "print len(ad)"
   ]
  },
  {
   "cell_type": "code",
   "execution_count": 26,
   "metadata": {
    "collapsed": false
   },
   "outputs": [],
   "source": [
    "import shutil\n",
    "import os\n",
    "train_number = 1200\n",
    "valid_number = train_number + 50\n",
    "dataset_dir = '/home/saumo/Desktop/screenshots/'\n",
    "screenshot_dir = '/home/saumo/Downloads/GSoC 2018/combined'\n",
    "for l in login[:train_number]:\n",
    "    shutil.copy2(os.path.join(screenshot_dir,str(l)+'.jpg'), os.path.join(dataset_dir,'train','login'))\n",
    "for o in onboarding[:train_number]:\n",
    "    shutil.copy2(os.path.join(screenshot_dir,str(o)+'.jpg'), os.path.join(dataset_dir,'train','onboarding'))\n",
    "for s in settings[:train_number]:\n",
    "    shutil.copy2(os.path.join(screenshot_dir,str(s)+'.jpg'), os.path.join(dataset_dir,'train','settings'))\n",
    "    \n",
    "for l in login[train_number:valid_number]:\n",
    "    shutil.copy2(os.path.join(screenshot_dir,str(l)+'.jpg'), os.path.join(dataset_dir,'valid','login'))\n",
    "for o in onboarding[train_number:valid_number]:\n",
    "    shutil.copy2(os.path.join(screenshot_dir,str(o)+'.jpg'), os.path.join(dataset_dir,'valid','onboarding'))\n",
    "for s in settings[train_number:valid_number]:\n",
    "    shutil.copy2(os.path.join(screenshot_dir,str(s)+'.jpg'), os.path.join(dataset_dir,'valid','settings'))"
   ]
  },
  {
   "cell_type": "code",
   "execution_count": 33,
   "metadata": {
    "collapsed": true
   },
   "outputs": [],
   "source": [
    "test_number = valid_number + 9\n",
    "for l in login[valid_number:test_number]:\n",
    "    shutil.copy2(os.path.join(screenshot_dir,str(l)+'.jpg'), os.path.join(dataset_dir,'test','login'))\n",
    "for o in onboarding[valid_number:test_number]:\n",
    "    shutil.copy2(os.path.join(screenshot_dir,str(o)+'.jpg'), os.path.join(dataset_dir,'test','onboarding'))\n",
    "for s in settings[valid_number:test_number]:\n",
    "    shutil.copy2(os.path.join(screenshot_dir,str(s)+'.jpg'), os.path.join(dataset_dir,'test','settings'))"
   ]
  },
  {
   "cell_type": "code",
   "execution_count": 27,
   "metadata": {
    "collapsed": false
   },
   "outputs": [],
   "source": [
    "import numpy as np\n",
    "import keras\n",
    "from keras import backend as K\n",
    "from keras.models import Sequential\n",
    "from keras.layers import Activation\n",
    "from keras.layers.core import Flatten, Dense\n",
    "from keras.optimizers import Adam\n",
    "from keras.metrics import categorical_crossentropy\n",
    "from keras.preprocessing.image import ImageDataGenerator\n",
    "from keras.layers.normalization import BatchNormalization\n",
    "from keras.layers.convolutional import *\n",
    "from matplotlib import pyplot as plt\n",
    "from sklearn.metrics import confusion_matrix\n",
    "import itertools\n",
    "import matplotlib.pyplot as plt\n",
    "%matplotlib inline"
   ]
  },
  {
   "cell_type": "code",
   "execution_count": 35,
   "metadata": {
    "collapsed": true
   },
   "outputs": [],
   "source": [
    "train_path = '/home/saumo/Desktop/screenshots/train/'\n",
    "valid_path = '/home/saumo/Desktop/screenshots/valid/'\n",
    "test_path = '/home/saumo/Desktop/screenshots/test/'"
   ]
  },
  {
   "cell_type": "code",
   "execution_count": 48,
   "metadata": {
    "collapsed": false
   },
   "outputs": [
    {
     "name": "stdout",
     "output_type": "stream",
     "text": [
      "Found 3600 images belonging to 3 classes.\n",
      "Found 150 images belonging to 3 classes.\n"
     ]
    }
   ],
   "source": [
    "train_batches = ImageDataGenerator().flow_from_directory(train_path, target_size=(224,224),classes=['login','onboarding','settings'],batch_size=5)\n",
    "valid_batches = ImageDataGenerator().flow_from_directory(valid_path, target_size=(224,224),classes=['login','onboarding','settings'],batch_size=5)"
   ]
  },
  {
   "cell_type": "code",
   "execution_count": 49,
   "metadata": {
    "collapsed": false
   },
   "outputs": [
    {
     "name": "stdout",
     "output_type": "stream",
     "text": [
      "Found 27 images belonging to 3 classes.\n"
     ]
    }
   ],
   "source": [
    "test_batches = ImageDataGenerator().flow_from_directory(test_path, target_size=(224,224),classes=['login','onboarding','settings'],batch_size=27)"
   ]
  },
  {
   "cell_type": "code",
   "execution_count": 61,
   "metadata": {
    "collapsed": false
   },
   "outputs": [],
   "source": [
    "model = Sequential([\n",
    "    Conv2D(32,(3,3),activation='relu',input_shape=(224,224,3)),\n",
    "    Flatten(),\n",
    "    Dense(3,activation='softmax'),\n",
    "])\n",
    "\n",
    "model.compile(Adam(lr=.0001),loss='categorical_crossentropy',metrics=['accuracy'])"
   ]
  },
  {
   "cell_type": "code",
   "execution_count": 62,
   "metadata": {
    "collapsed": false
   },
   "outputs": [
    {
     "name": "stdout",
     "output_type": "stream",
     "text": [
      "_________________________________________________________________\n",
      "Layer (type)                 Output Shape              Param #   \n",
      "=================================================================\n",
      "conv2d_5 (Conv2D)            (None, 222, 222, 32)      896       \n",
      "_________________________________________________________________\n",
      "flatten_4 (Flatten)          (None, 1577088)           0         \n",
      "_________________________________________________________________\n",
      "dense_6 (Dense)              (None, 3)                 4731267   \n",
      "=================================================================\n",
      "Total params: 4,732,163\n",
      "Trainable params: 4,732,163\n",
      "Non-trainable params: 0\n",
      "_________________________________________________________________\n"
     ]
    }
   ],
   "source": [
    "model.summary()"
   ]
  },
  {
   "cell_type": "code",
   "execution_count": 63,
   "metadata": {
    "collapsed": false
   },
   "outputs": [
    {
     "name": "stdout",
     "output_type": "stream",
     "text": [
      "Epoch 1/5\n",
      "397s - loss: 10.7262 - acc: 0.3342 - val_loss: 9.8858 - val_acc: 0.3867\n",
      "Epoch 2/5\n",
      "308s - loss: 10.8468 - acc: 0.3269 - val_loss: 11.3901 - val_acc: 0.2933\n",
      "Epoch 3/5\n",
      "273s - loss: 10.7857 - acc: 0.3308 - val_loss: 10.1007 - val_acc: 0.3733\n",
      "Epoch 4/5\n",
      "273s - loss: 10.8126 - acc: 0.3292 - val_loss: 11.1752 - val_acc: 0.3067\n",
      "Epoch 5/5\n",
      "273s - loss: 10.6021 - acc: 0.3422 - val_loss: 11.0678 - val_acc: 0.3133\n"
     ]
    },
    {
     "data": {
      "text/plain": [
       "<keras.callbacks.History at 0x7fca947420d0>"
      ]
     },
     "execution_count": 63,
     "metadata": {},
     "output_type": "execute_result"
    }
   ],
   "source": [
    "model.fit_generator(train_batches,steps_per_epoch=720,validation_data=valid_batches,validation_steps=30,epochs=5,verbose=2)"
   ]
  },
  {
   "cell_type": "code",
   "execution_count": 39,
   "metadata": {
    "collapsed": false
   },
   "outputs": [
    {
     "name": "stdout",
     "output_type": "stream",
     "text": [
      "Downloading data from https://github.com/fchollet/deep-learning-models/releases/download/v0.1/vgg16_weights_tf_dim_ordering_tf_kernels.h5\n"
     ]
    }
   ],
   "source": [
    "vgg16_model = keras.applications.vgg16.VGG16()"
   ]
  },
  {
   "cell_type": "code",
   "execution_count": 40,
   "metadata": {
    "collapsed": false
   },
   "outputs": [
    {
     "data": {
      "text/plain": [
       "keras.engine.training.Model"
      ]
     },
     "execution_count": 40,
     "metadata": {},
     "output_type": "execute_result"
    }
   ],
   "source": [
    "type(vgg16_model)"
   ]
  },
  {
   "cell_type": "code",
   "execution_count": 53,
   "metadata": {
    "collapsed": true
   },
   "outputs": [],
   "source": [
    "model = Sequential()\n",
    "for layer in vgg16_model.layers:\n",
    "    model.add(layer)"
   ]
  },
  {
   "cell_type": "code",
   "execution_count": 54,
   "metadata": {
    "collapsed": false
   },
   "outputs": [
    {
     "name": "stdout",
     "output_type": "stream",
     "text": [
      "_________________________________________________________________\n",
      "Layer (type)                 Output Shape              Param #   \n",
      "=================================================================\n",
      "input_2 (InputLayer)         (None, 224, 224, 3)       0         \n",
      "_________________________________________________________________\n",
      "block1_conv1 (Conv2D)        (None, 224, 224, 64)      1792      \n",
      "_________________________________________________________________\n",
      "block1_conv2 (Conv2D)        (None, 224, 224, 64)      36928     \n",
      "_________________________________________________________________\n",
      "block1_pool (MaxPooling2D)   (None, 112, 112, 64)      0         \n",
      "_________________________________________________________________\n",
      "block2_conv1 (Conv2D)        (None, 112, 112, 128)     73856     \n",
      "_________________________________________________________________\n",
      "block2_conv2 (Conv2D)        (None, 112, 112, 128)     147584    \n",
      "_________________________________________________________________\n",
      "block2_pool (MaxPooling2D)   (None, 56, 56, 128)       0         \n",
      "_________________________________________________________________\n",
      "block3_conv1 (Conv2D)        (None, 56, 56, 256)       295168    \n",
      "_________________________________________________________________\n",
      "block3_conv2 (Conv2D)        (None, 56, 56, 256)       590080    \n",
      "_________________________________________________________________\n",
      "block3_conv3 (Conv2D)        (None, 56, 56, 256)       590080    \n",
      "_________________________________________________________________\n",
      "block3_pool (MaxPooling2D)   (None, 28, 28, 256)       0         \n",
      "_________________________________________________________________\n",
      "block4_conv1 (Conv2D)        (None, 28, 28, 512)       1180160   \n",
      "_________________________________________________________________\n",
      "block4_conv2 (Conv2D)        (None, 28, 28, 512)       2359808   \n",
      "_________________________________________________________________\n",
      "block4_conv3 (Conv2D)        (None, 28, 28, 512)       2359808   \n",
      "_________________________________________________________________\n",
      "block4_pool (MaxPooling2D)   (None, 14, 14, 512)       0         \n",
      "_________________________________________________________________\n",
      "block5_conv1 (Conv2D)        (None, 14, 14, 512)       2359808   \n",
      "_________________________________________________________________\n",
      "block5_conv2 (Conv2D)        (None, 14, 14, 512)       2359808   \n",
      "_________________________________________________________________\n",
      "block5_conv3 (Conv2D)        (None, 14, 14, 512)       2359808   \n",
      "_________________________________________________________________\n",
      "block5_pool (MaxPooling2D)   (None, 7, 7, 512)         0         \n",
      "_________________________________________________________________\n",
      "flatten (Flatten)            (None, 25088)             0         \n",
      "_________________________________________________________________\n",
      "fc1 (Dense)                  (None, 4096)              102764544 \n",
      "_________________________________________________________________\n",
      "fc2 (Dense)                  (None, 4096)              16781312  \n",
      "_________________________________________________________________\n",
      "predictions (Dense)          (None, 1000)              4097000   \n",
      "=================================================================\n",
      "Total params: 138,357,544\n",
      "Trainable params: 4,097,000\n",
      "Non-trainable params: 134,260,544\n",
      "_________________________________________________________________\n"
     ]
    }
   ],
   "source": [
    "model.summary()"
   ]
  },
  {
   "cell_type": "code",
   "execution_count": 55,
   "metadata": {
    "collapsed": false
   },
   "outputs": [
    {
     "data": {
      "text/plain": [
       "<keras.layers.core.Dense at 0x7fcaf0071450>"
      ]
     },
     "execution_count": 55,
     "metadata": {},
     "output_type": "execute_result"
    }
   ],
   "source": [
    "model.layers.pop()"
   ]
  },
  {
   "cell_type": "code",
   "execution_count": 56,
   "metadata": {
    "collapsed": false
   },
   "outputs": [
    {
     "name": "stdout",
     "output_type": "stream",
     "text": [
      "_________________________________________________________________\n",
      "Layer (type)                 Output Shape              Param #   \n",
      "=================================================================\n",
      "input_2 (InputLayer)         (None, 224, 224, 3)       0         \n",
      "_________________________________________________________________\n",
      "block1_conv1 (Conv2D)        (None, 224, 224, 64)      1792      \n",
      "_________________________________________________________________\n",
      "block1_conv2 (Conv2D)        (None, 224, 224, 64)      36928     \n",
      "_________________________________________________________________\n",
      "block1_pool (MaxPooling2D)   (None, 112, 112, 64)      0         \n",
      "_________________________________________________________________\n",
      "block2_conv1 (Conv2D)        (None, 112, 112, 128)     73856     \n",
      "_________________________________________________________________\n",
      "block2_conv2 (Conv2D)        (None, 112, 112, 128)     147584    \n",
      "_________________________________________________________________\n",
      "block2_pool (MaxPooling2D)   (None, 56, 56, 128)       0         \n",
      "_________________________________________________________________\n",
      "block3_conv1 (Conv2D)        (None, 56, 56, 256)       295168    \n",
      "_________________________________________________________________\n",
      "block3_conv2 (Conv2D)        (None, 56, 56, 256)       590080    \n",
      "_________________________________________________________________\n",
      "block3_conv3 (Conv2D)        (None, 56, 56, 256)       590080    \n",
      "_________________________________________________________________\n",
      "block3_pool (MaxPooling2D)   (None, 28, 28, 256)       0         \n",
      "_________________________________________________________________\n",
      "block4_conv1 (Conv2D)        (None, 28, 28, 512)       1180160   \n",
      "_________________________________________________________________\n",
      "block4_conv2 (Conv2D)        (None, 28, 28, 512)       2359808   \n",
      "_________________________________________________________________\n",
      "block4_conv3 (Conv2D)        (None, 28, 28, 512)       2359808   \n",
      "_________________________________________________________________\n",
      "block4_pool (MaxPooling2D)   (None, 14, 14, 512)       0         \n",
      "_________________________________________________________________\n",
      "block5_conv1 (Conv2D)        (None, 14, 14, 512)       2359808   \n",
      "_________________________________________________________________\n",
      "block5_conv2 (Conv2D)        (None, 14, 14, 512)       2359808   \n",
      "_________________________________________________________________\n",
      "block5_conv3 (Conv2D)        (None, 14, 14, 512)       2359808   \n",
      "_________________________________________________________________\n",
      "block5_pool (MaxPooling2D)   (None, 7, 7, 512)         0         \n",
      "_________________________________________________________________\n",
      "flatten (Flatten)            (None, 25088)             0         \n",
      "_________________________________________________________________\n",
      "fc1 (Dense)                  (None, 4096)              102764544 \n",
      "_________________________________________________________________\n",
      "fc2 (Dense)                  (None, 4096)              16781312  \n",
      "=================================================================\n",
      "Total params: 134,260,544\n",
      "Trainable params: 0\n",
      "Non-trainable params: 134,260,544\n",
      "_________________________________________________________________\n"
     ]
    }
   ],
   "source": [
    "model.summary()"
   ]
  },
  {
   "cell_type": "code",
   "execution_count": 57,
   "metadata": {
    "collapsed": true
   },
   "outputs": [],
   "source": [
    "for layer in model.layers:\n",
    "    layer.trainable = False"
   ]
  },
  {
   "cell_type": "code",
   "execution_count": 58,
   "metadata": {
    "collapsed": true
   },
   "outputs": [],
   "source": [
    "model.add(Dense(3,activation='softmax'))"
   ]
  },
  {
   "cell_type": "code",
   "execution_count": 59,
   "metadata": {
    "collapsed": false
   },
   "outputs": [
    {
     "name": "stdout",
     "output_type": "stream",
     "text": [
      "_________________________________________________________________\n",
      "Layer (type)                 Output Shape              Param #   \n",
      "=================================================================\n",
      "input_2 (InputLayer)         (None, 224, 224, 3)       0         \n",
      "_________________________________________________________________\n",
      "block1_conv1 (Conv2D)        (None, 224, 224, 64)      1792      \n",
      "_________________________________________________________________\n",
      "block1_conv2 (Conv2D)        (None, 224, 224, 64)      36928     \n",
      "_________________________________________________________________\n",
      "block1_pool (MaxPooling2D)   (None, 112, 112, 64)      0         \n",
      "_________________________________________________________________\n",
      "block2_conv1 (Conv2D)        (None, 112, 112, 128)     73856     \n",
      "_________________________________________________________________\n",
      "block2_conv2 (Conv2D)        (None, 112, 112, 128)     147584    \n",
      "_________________________________________________________________\n",
      "block2_pool (MaxPooling2D)   (None, 56, 56, 128)       0         \n",
      "_________________________________________________________________\n",
      "block3_conv1 (Conv2D)        (None, 56, 56, 256)       295168    \n",
      "_________________________________________________________________\n",
      "block3_conv2 (Conv2D)        (None, 56, 56, 256)       590080    \n",
      "_________________________________________________________________\n",
      "block3_conv3 (Conv2D)        (None, 56, 56, 256)       590080    \n",
      "_________________________________________________________________\n",
      "block3_pool (MaxPooling2D)   (None, 28, 28, 256)       0         \n",
      "_________________________________________________________________\n",
      "block4_conv1 (Conv2D)        (None, 28, 28, 512)       1180160   \n",
      "_________________________________________________________________\n",
      "block4_conv2 (Conv2D)        (None, 28, 28, 512)       2359808   \n",
      "_________________________________________________________________\n",
      "block4_conv3 (Conv2D)        (None, 28, 28, 512)       2359808   \n",
      "_________________________________________________________________\n",
      "block4_pool (MaxPooling2D)   (None, 14, 14, 512)       0         \n",
      "_________________________________________________________________\n",
      "block5_conv1 (Conv2D)        (None, 14, 14, 512)       2359808   \n",
      "_________________________________________________________________\n",
      "block5_conv2 (Conv2D)        (None, 14, 14, 512)       2359808   \n",
      "_________________________________________________________________\n",
      "block5_conv3 (Conv2D)        (None, 14, 14, 512)       2359808   \n",
      "_________________________________________________________________\n",
      "block5_pool (MaxPooling2D)   (None, 7, 7, 512)         0         \n",
      "_________________________________________________________________\n",
      "flatten (Flatten)            (None, 25088)             0         \n",
      "_________________________________________________________________\n",
      "fc1 (Dense)                  (None, 4096)              102764544 \n",
      "_________________________________________________________________\n",
      "fc2 (Dense)                  (None, 4096)              16781312  \n",
      "_________________________________________________________________\n",
      "dense_5 (Dense)              (None, 3)                 3003      \n",
      "=================================================================\n",
      "Total params: 134,263,547\n",
      "Trainable params: 3,003\n",
      "Non-trainable params: 134,260,544\n",
      "_________________________________________________________________\n"
     ]
    }
   ],
   "source": [
    "model.summary()"
   ]
  },
  {
   "cell_type": "code",
   "execution_count": 60,
   "metadata": {
    "collapsed": false
   },
   "outputs": [
    {
     "name": "stdout",
     "output_type": "stream",
     "text": [
      "Epoch 1/5\n",
      "3225s - loss: 1.0665 - acc: 0.5250 - val_loss: 1.0489 - val_acc: 0.5600\n",
      "Epoch 2/5\n",
      "2988s - loss: 1.0331 - acc: 0.5725 - val_loss: 1.0176 - val_acc: 0.5867\n",
      "Epoch 3/5\n",
      "3007s - loss: 1.0088 - acc: 0.5786 - val_loss: 0.9925 - val_acc: 0.6000\n",
      "Epoch 4/5\n",
      "2998s - loss: 0.9818 - acc: 0.5881 - val_loss: 0.9777 - val_acc: 0.5733\n",
      "Epoch 5/5\n",
      "3019s - loss: 0.9576 - acc: 0.5989 - val_loss: 0.9682 - val_acc: 0.5867\n"
     ]
    },
    {
     "data": {
      "text/plain": [
       "<keras.callbacks.History at 0x7fcab41c0390>"
      ]
     },
     "execution_count": 60,
     "metadata": {},
     "output_type": "execute_result"
    }
   ],
   "source": [
    "model.compile(Adam(lr=.0001),loss='categorical_crossentropy',metrics=['accuracy'])\n",
    "model.fit_generator(train_batches,steps_per_epoch=720,validation_data=valid_batches,validation_steps=30,epochs=5,verbose=2)"
   ]
  }
 ],
 "metadata": {
  "kernelspec": {
   "display_name": "Python 2",
   "language": "python",
   "name": "python2"
  },
  "language_info": {
   "codemirror_mode": {
    "name": "ipython",
    "version": 2
   },
   "file_extension": ".py",
   "mimetype": "text/x-python",
   "name": "python",
   "nbconvert_exporter": "python",
   "pygments_lexer": "ipython2",
   "version": "2.7.12"
  }
 },
 "nbformat": 4,
 "nbformat_minor": 2
}
