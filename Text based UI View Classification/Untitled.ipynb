{
 "cells": [
  {
   "cell_type": "code",
   "execution_count": null,
   "metadata": {
    "collapsed": true
   },
   "outputs": [],
   "source": [
    "import os, gensim, ast\n",
    "\n",
    "def create_dictionary(top_directory):\n",
    "    train_corpus_list = list()\n",
    "    test_corpus_list = list()\n",
    "    with open(os.path.join(top_directory,'json_corpus_train.txt')) as f:\n",
    "        document = f.readlines()\n",
    "        f.close()\n",
    "    for d in document:\n",
    "        dict_text = ast.literal_eval(d)\n",
    "        if (dict_text['type'] != 'test'):\n",
    "            train_corpus_list.append(dict_text['feature'])\n",
    "        else :\n",
    "            test_corpus_list.append(dict_text['feature'])\n",
    "    texts = list()\n",
    "    for text in train_corpus_list:\n",
    "        texts.append(text.split())\n",
    "    dictionary = gensim.corpora.Dictionary(texts)\n",
    "    dictionary.filter_extremes(no_below=1)\n",
    "    return dictionary, texts\n",
    "\n",
    "def transform_bow(corpus_list, dictionary, top_directory):\n",
    "    corpus_bow = list()\n",
    "    corpus_bow += [dictionary.doc2bow(c) for c in corpus_list]\n",
    "    gensim.corpora.MmCorpus.serialize(os.path.join(top_directory,'transformations','trial.mm'), corpus_bow)\n",
    "    return corpus_bow\n",
    "\n",
    "def transform_tfidf(corpus_bow, top_directory):\n",
    "    tfidf = gensim.models.TfidfModel(corpus_bow)\n",
    "    tfidf.save(os.path.join(top_directory,'transformations','trial.tfidf'))\n",
    "    corpus_tfidf = tfidf[corpus_bow]\n",
    "    return corpus_tfidf\n",
    "\n",
    "def transform_lsi(corpus_tfidf, dictionary, top_directory):\n",
    "    lsi = gensim.models.LsiModel(corpus_tfidf, id2word=dictionary, num_topics=50)\n",
    "    lsi.save(os.path.join(top_directory,'transformations','trial.lsi'))\n",
    "    corpus_lsi = lsi[corpus_tfidf]\n",
    "    index = gensim.similarities.MatrixSimilarity(corpus_lsi)\n",
    "    index.save(os.path.join(top_directory,'transformations','trial.index'))\n",
    "    return index\n",
    "  \n",
    "top_directory = os.getcwd()\n",
    "dictionary, texts = create_dictionary(top_directory)\n",
    "corpus_bow = transform_bow(texts, dictionary, top_directory)\n",
    "corpus_tfidf = transform_tfidf(corpus_bow, top_directory)\n",
    "index_lsi = transform_lsi(corpus_tfidf, dictionary, top_directory)\n"
   ]
  }
 ],
 "metadata": {
  "kernelspec": {
   "display_name": "Python 2",
   "language": "python",
   "name": "python2"
  },
  "language_info": {
   "codemirror_mode": {
    "name": "ipython",
    "version": 2
   },
   "file_extension": ".py",
   "mimetype": "text/x-python",
   "name": "python",
   "nbconvert_exporter": "python",
   "pygments_lexer": "ipython2",
   "version": "2.7.12"
  }
 },
 "nbformat": 4,
 "nbformat_minor": 2
}
